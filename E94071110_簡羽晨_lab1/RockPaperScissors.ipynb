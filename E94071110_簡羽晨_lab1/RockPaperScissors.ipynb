{
 "cells": [
  {
   "cell_type": "code",
   "execution_count": 31,
   "id": "d8f37940",
   "metadata": {},
   "outputs": [],
   "source": [
    "import random"
   ]
  },
  {
   "cell_type": "code",
   "execution_count": 32,
   "id": "be9cef77",
   "metadata": {},
   "outputs": [
    {
     "name": "stdout",
     "output_type": "stream",
     "text": [
      "Welcome to ROCK, PAPER, SCISSORS game!\n"
     ]
    }
   ],
   "source": [
    "print(\"Welcome to ROCK, PAPER, SCISSORS game!\")"
   ]
  },
  {
   "cell_type": "code",
   "execution_count": 33,
   "id": "7421edcf",
   "metadata": {},
   "outputs": [],
   "source": [
    "# 這三個變數是用來計算ties有幾次，losses有幾次，win了沒\n",
    "ties=0\n",
    "losses=0\n",
    "win=0"
   ]
  },
  {
   "cell_type": "code",
   "execution_count": 34,
   "id": "86aee4a3",
   "metadata": {},
   "outputs": [
    {
     "name": "stdout",
     "output_type": "stream",
     "text": [
      "Enter your move: (r)ock (p)aper (s)cissors r\n",
      "ROCK versus...\n",
      " ROCK\n",
      "It is a tie!\n",
      "Enter your move: (r)ock (p)aper (s)cissors p\n",
      "PAPER versus...\n",
      " ROCK\n",
      "You win!\n"
     ]
    }
   ],
   "source": [
    "while (win==0):\n",
    "    \n",
    "    # 由電腦隨機產生1、2、3，分別對應到\"ROCK\"、\"PAPER\"、\"SCISSORS\"\n",
    "    x = random.randint(1, 3)\n",
    "    if (x==1):\n",
    "        Annonymous = \"ROCK\"\n",
    "    elif (x==2):\n",
    "        Annonymous = \"PAPER\"\n",
    "    elif (x==3):\n",
    "        ANnonymous = \"SCISSORS\"\n",
    "    else:\n",
    "        print(\"ERROR!\")\n",
    "    Type = (input(\"Enter your move: (r)ock (p)aper (s)cissors \"))\n",
    "    \n",
    "    # 分成使用者出剪刀(Type == \"r\")、石頭(Type == \"p\")、布(Type == \"s\")三種狀況 :\n",
    "    # 如果和電腦(Annonymous)比輸了，print(\"You lose!\")，然後 losses多1 ;\n",
    "    # 如果和電腦(Annonymous)比贏了， print(\"You win!\")， 然後 win =1，跳出迴圈 ;\n",
    "    # 如果和電腦(Annonymous)比平手，print(\"It is a tie!\")，然後 ties多1\n",
    "    if (Type == \"r\"):\n",
    "        Player = \"ROCK\"\n",
    "        print(Player,\"versus...\\n\",Annonymous)\n",
    "        if (Annonymous == \"ROCK\"):\n",
    "            print(\"It is a tie!\")\n",
    "            ties += 1\n",
    "        elif (Annonymous == \"PAPER\"):\n",
    "            print(\"You lose!\")\n",
    "            losses += 1\n",
    "        elif (Annonymous == \"SCISSORS\"):\n",
    "            print(\"You win!\")\n",
    "            win += 1\n",
    "            break\n",
    "        else:\n",
    "            print(\"OOPS! SOMETHING WRONG!\")\n",
    "    elif (Type == \"p\"):\n",
    "        Player = \"PAPER\"\n",
    "        print(Player,\"versus...\\n\",Annonymous)\n",
    "        if (Annonymous == \"ROCK\"):\n",
    "            print(\"You win!\")\n",
    "            win += 1\n",
    "            break\n",
    "        elif (Annonymous == \"PAPER\"):\n",
    "            print(\"It is a tie!\")\n",
    "            ties += 1\n",
    "        elif (Annonymous == \"SCISSORS\"):\n",
    "            print(\"You lose!\")\n",
    "            losses += 1\n",
    "        else:\n",
    "            print(\"OOPS! SOMETHING WRONG!\")\n",
    "    elif (Type == \"s\"):\n",
    "        Player = \"SCISSORS\"\n",
    "        print(Player,\"versus...\\n\",Annonymous)\n",
    "        if (Annonymous == \"ROCK\"):\n",
    "            print(\"You lose!\")\n",
    "            losses += 1\n",
    "        elif (Annonymous == \"PAPER\"):\n",
    "            print(\"You win!\")\n",
    "            win += 1\n",
    "            break\n",
    "        elif (Annonymous == \"SCISSORS\"):\n",
    "            print(\"It is a tie!\")\n",
    "            ties += 1\n",
    "        else:\n",
    "            print(\"OOPS! SOMETHING WRONG!\")\n",
    "    else:\n",
    "        print (\"Please try again!\")"
   ]
  },
  {
   "cell_type": "code",
   "execution_count": 35,
   "id": "bc87453d",
   "metadata": {},
   "outputs": [
    {
     "name": "stdout",
     "output_type": "stream",
     "text": [
      "You have 1 ties and 0 losses before your first win.\n"
     ]
    }
   ],
   "source": [
    "print(\"You have\",ties,\"ties and\",losses,\"losses before your first win.\")"
   ]
  },
  {
   "cell_type": "code",
   "execution_count": null,
   "id": "ffc2785f",
   "metadata": {},
   "outputs": [],
   "source": [
    "# if (Player == Annonymous):\n",
    "    \n",
    "# elif "
   ]
  }
 ],
 "metadata": {
  "kernelspec": {
   "display_name": "Python 3",
   "language": "python",
   "name": "python3"
  },
  "language_info": {
   "codemirror_mode": {
    "name": "ipython",
    "version": 3
   },
   "file_extension": ".py",
   "mimetype": "text/x-python",
   "name": "python",
   "nbconvert_exporter": "python",
   "pygments_lexer": "ipython3",
   "version": "3.8.6"
  }
 },
 "nbformat": 4,
 "nbformat_minor": 5
}
