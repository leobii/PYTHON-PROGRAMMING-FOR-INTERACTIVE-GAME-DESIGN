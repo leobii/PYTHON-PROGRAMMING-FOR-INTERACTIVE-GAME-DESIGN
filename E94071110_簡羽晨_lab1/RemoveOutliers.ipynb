{
 "cells": [
  {
   "cell_type": "code",
   "execution_count": 12,
   "id": "5f91ae26",
   "metadata": {},
   "outputs": [],
   "source": [
    "def remove_outliers(org,n):\n",
    "    # Bubble sort，先將使用者輸入的資料排序\n",
    "    j=0\n",
    "    while j<=(len(org)-2):\n",
    "        for i in range(len(org)-1-j):\n",
    "            t=org[i]\n",
    "            if t>org[i+1]:    \n",
    "                org[i] = org[i+1]\n",
    "                org[i+1] = t\n",
    "                #print(i,org)\n",
    "                i+=1\n",
    "            else:\n",
    "                #print(org,i)\n",
    "                i+=1    \n",
    "        j+=1\n",
    "    \n",
    "    # 將前後n個數字從org[]內移除（也就是移除最大的n個，和最小的n個數字）\n",
    "    org_mod = org[rm:len(org)-rm]\n",
    "\n",
    "    # 選取前後n個數字（也就是最大的n個，和最小的n個數字）\n",
    "    out = org[0:rm]+org[len(org)-rm:len(org)]\n",
    "\n",
    "    return(org_mod, out)"
   ]
  },
  {
   "cell_type": "code",
   "execution_count": 13,
   "id": "0224fbdc",
   "metadata": {},
   "outputs": [
    {
     "name": "stdout",
     "output_type": "stream",
     "text": [
      "Enter the number of smallest and largest values to remove:2\n",
      "Enter a value (q or Q to quit):1001\n",
      "Enter a value (q or Q to quit):2001\n",
      "Enter a value (q or Q to quit):1\n",
      "Enter a value (q or Q to quit):2\n",
      "Enter a value (q or Q to quit):-1001\n",
      "Enter a value (q or Q to quit):-20\n",
      "Enter a value (q or Q to quit):5\n",
      "Enter a value (q or Q to quit):4\n",
      "Enter a value (q or Q to quit):3\n",
      "Enter a value (q or Q to quit):1\n",
      "Enter a value (q or Q to quit):2\n",
      "Enter a value (q or Q to quit):3\n",
      "Enter a value (q or Q to quit):q\n",
      "The original data: [1001, 2001, 1, 2, -1001, -20, 5, 4, 3, 1, 2, 3]\n",
      "The data with the outliers removed:  [1, 1, 2, 2, 3, 3, 4, 5]\n",
      "The outliers: [-1001, -20, 1001, 2001]\n"
     ]
    }
   ],
   "source": [
    "rm=int(input(\"Enter the number of smallest and largest values to remove:\"))\n",
    "\n",
    "x=\"start\"\n",
    "org=[]\n",
    "while ((x!= \"q\")&(x!= \"Q\"))|(((rm*2)>len(org))):\n",
    "    x = input(\"Enter a value (q or Q to quit):\")\n",
    "    if (x!=\"q\")&(x!=\"Q\"):      # 把非\"q\"、\"Q\"的x放入org[]\n",
    "        org+=[int(x)]\n",
    "    elif (rm*2)>len(org):      # 如果輸入的數字(也就是org[]有幾格)比rm兩倍的數字還少，代表等等可能不夠刪減，所以請使用者繼續輸入值\n",
    "        print(\"NOT Enough Value to remove. Please enter more! \")\n",
    "        \n",
    "print(\"The original data:\",org)\n",
    "\n",
    "org_mod, out =remove_outliers(org,rm)\n",
    "print(\"The data with the outliers removed: \",org_mod)\n",
    "print(\"The outliers:\",out)\n",
    "\n",
    "#list_mod = list\n",
    "#for i in range(rm):\n",
    "    #list_mod = max(list_)\n",
    "   # i+=1"
   ]
  },
  {
   "cell_type": "code",
   "execution_count": 11,
   "id": "07d2173e",
   "metadata": {},
   "outputs": [
    {
     "data": {
      "text/plain": [
       "'\\nimport heapq\\n\\n# 找出最大、最小的rm個數\\nmax_num = heapq.nlargest(rm, org)\\nmin_num = heapq.nsmallest(rm,org)\\nprint(\"The outliers:\", max_num+min_num)\\n'"
      ]
     },
     "execution_count": 11,
     "metadata": {},
     "output_type": "execute_result"
    }
   ],
   "source": [
    "\"\"\"\n",
    "import heapq\n",
    "\n",
    "# 找出最大、最小的rm個數\n",
    "max_num = heapq.nlargest(rm, org)\n",
    "min_num = heapq.nsmallest(rm,org)\n",
    "print(\"The outliers:\", max_num+min_num)\n",
    "\"\"\""
   ]
  }
 ],
 "metadata": {
  "kernelspec": {
   "display_name": "Python 3",
   "language": "python",
   "name": "python3"
  },
  "language_info": {
   "codemirror_mode": {
    "name": "ipython",
    "version": 3
   },
   "file_extension": ".py",
   "mimetype": "text/x-python",
   "name": "python",
   "nbconvert_exporter": "python",
   "pygments_lexer": "ipython3",
   "version": "3.8.6"
  }
 },
 "nbformat": 4,
 "nbformat_minor": 5
}
