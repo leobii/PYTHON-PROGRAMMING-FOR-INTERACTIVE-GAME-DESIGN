{
 "cells": [
  {
   "cell_type": "code",
   "execution_count": 2,
   "id": "0224fbdc",
   "metadata": {},
   "outputs": [
    {
     "name": "stdout",
     "output_type": "stream",
     "text": [
      "Enter the number of smallest and largest values to remove:2\n",
      "Enter a value (q or Q to quit):1001\n",
      "Enter a value (q or Q to quit):2001\n",
      "Enter a value (q or Q to quit):1\n",
      "Enter a value (q or Q to quit):2\n",
      "Enter a value (q or Q to quit):-1001\n",
      "Enter a value (q or Q to quit):-20\n",
      "Enter a value (q or Q to quit):5\n",
      "Enter a value (q or Q to quit):4\n",
      "Enter a value (q or Q to quit):3\n",
      "Enter a value (q or Q to quit):1\n",
      "Enter a value (q or Q to quit):2\n",
      "Enter a value (q or Q to quit):3\n",
      "Enter a value (q or Q to quit):q\n",
      "The original data: [1001, 2001, 1, 2, -1001, -20, 5, 4, 3, 1, 2, 3]\n"
     ]
    }
   ],
   "source": [
    "rm=int(input(\"Enter the number of smallest and largest values to remove:\"))\n",
    "\n",
    "x=\"start\"\n",
    "org=[]\n",
    "while ((x!= \"q\")&(x!= \"Q\"))|(((rm*2)>len(org))):\n",
    "    x=input(\"Enter a value (q or Q to quit):\")\n",
    "    if (x!=\"q\")&(x!=\"Q\"):      # 把非\"q\"、\"Q\"的x放入org[]\n",
    "        org+=[int(x)]\n",
    "    elif (rm*2)>len(org):      # 如果輸入的數字(也就是org[]有幾格)比rm兩倍的數字還少，代表等等可能不夠刪減，所以請使用者繼續輸入值\n",
    "        print(\"NOT Enough Value to remove. Please enter more! \")\n",
    "print(\"The original data:\",org)\n",
    "\n",
    "#list_mod = list\n",
    "#for i in range(rm):\n",
    "    #list_mod = max(list_)\n",
    "   # i+=1"
   ]
  },
  {
   "cell_type": "code",
   "execution_count": 45,
   "id": "07d2173e",
   "metadata": {},
   "outputs": [
    {
     "data": {
      "text/plain": [
       "'\\nimport heapq\\n\\n# 找出最大、最小的rm個數\\nmax_num = heapq.nlargest(rm, org)\\nmin_num = heapq.nsmallest(rm,org)\\nprint(\"The outliers:\", max_num+min_num)\\n'"
      ]
     },
     "execution_count": 45,
     "metadata": {},
     "output_type": "execute_result"
    }
   ],
   "source": [
    "\"\"\"\n",
    "import heapq\n",
    "\n",
    "# 找出最大、最小的rm個數\n",
    "max_num = heapq.nlargest(rm, org)\n",
    "min_num = heapq.nsmallest(rm,org)\n",
    "print(\"The outliers:\", max_num+min_num)\n",
    "\"\"\""
   ]
  },
  {
   "cell_type": "code",
   "execution_count": 3,
   "id": "5f91ae26",
   "metadata": {},
   "outputs": [
    {
     "name": "stdout",
     "output_type": "stream",
     "text": [
      "[1001, 2001, 1, 2, -1001, -20, 5, 4, 3, 1, 2, 3] 0\n",
      "1 [1001, 1, 2001, 2, -1001, -20, 5, 4, 3, 1, 2, 3]\n",
      "2 [1001, 1, 2, 2001, -1001, -20, 5, 4, 3, 1, 2, 3]\n",
      "3 [1001, 1, 2, -1001, 2001, -20, 5, 4, 3, 1, 2, 3]\n",
      "4 [1001, 1, 2, -1001, -20, 2001, 5, 4, 3, 1, 2, 3]\n",
      "5 [1001, 1, 2, -1001, -20, 5, 2001, 4, 3, 1, 2, 3]\n",
      "6 [1001, 1, 2, -1001, -20, 5, 4, 2001, 3, 1, 2, 3]\n",
      "7 [1001, 1, 2, -1001, -20, 5, 4, 3, 2001, 1, 2, 3]\n",
      "8 [1001, 1, 2, -1001, -20, 5, 4, 3, 1, 2001, 2, 3]\n",
      "9 [1001, 1, 2, -1001, -20, 5, 4, 3, 1, 2, 2001, 3]\n",
      "10 [1001, 1, 2, -1001, -20, 5, 4, 3, 1, 2, 3, 2001]\n",
      "0 [1, 1001, 2, -1001, -20, 5, 4, 3, 1, 2, 3, 2001]\n",
      "1 [1, 2, 1001, -1001, -20, 5, 4, 3, 1, 2, 3, 2001]\n",
      "2 [1, 2, -1001, 1001, -20, 5, 4, 3, 1, 2, 3, 2001]\n",
      "3 [1, 2, -1001, -20, 1001, 5, 4, 3, 1, 2, 3, 2001]\n",
      "4 [1, 2, -1001, -20, 5, 1001, 4, 3, 1, 2, 3, 2001]\n",
      "5 [1, 2, -1001, -20, 5, 4, 1001, 3, 1, 2, 3, 2001]\n",
      "6 [1, 2, -1001, -20, 5, 4, 3, 1001, 1, 2, 3, 2001]\n",
      "7 [1, 2, -1001, -20, 5, 4, 3, 1, 1001, 2, 3, 2001]\n",
      "8 [1, 2, -1001, -20, 5, 4, 3, 1, 2, 1001, 3, 2001]\n",
      "9 [1, 2, -1001, -20, 5, 4, 3, 1, 2, 3, 1001, 2001]\n",
      "[1, 2, -1001, -20, 5, 4, 3, 1, 2, 3, 1001, 2001] 0\n",
      "1 [1, -1001, 2, -20, 5, 4, 3, 1, 2, 3, 1001, 2001]\n",
      "2 [1, -1001, -20, 2, 5, 4, 3, 1, 2, 3, 1001, 2001]\n",
      "[1, -1001, -20, 2, 5, 4, 3, 1, 2, 3, 1001, 2001] 3\n",
      "4 [1, -1001, -20, 2, 4, 5, 3, 1, 2, 3, 1001, 2001]\n",
      "5 [1, -1001, -20, 2, 4, 3, 5, 1, 2, 3, 1001, 2001]\n",
      "6 [1, -1001, -20, 2, 4, 3, 1, 5, 2, 3, 1001, 2001]\n",
      "7 [1, -1001, -20, 2, 4, 3, 1, 2, 5, 3, 1001, 2001]\n",
      "8 [1, -1001, -20, 2, 4, 3, 1, 2, 3, 5, 1001, 2001]\n",
      "0 [-1001, 1, -20, 2, 4, 3, 1, 2, 3, 5, 1001, 2001]\n",
      "1 [-1001, -20, 1, 2, 4, 3, 1, 2, 3, 5, 1001, 2001]\n",
      "[-1001, -20, 1, 2, 4, 3, 1, 2, 3, 5, 1001, 2001] 2\n",
      "[-1001, -20, 1, 2, 4, 3, 1, 2, 3, 5, 1001, 2001] 3\n",
      "4 [-1001, -20, 1, 2, 3, 4, 1, 2, 3, 5, 1001, 2001]\n",
      "5 [-1001, -20, 1, 2, 3, 1, 4, 2, 3, 5, 1001, 2001]\n",
      "6 [-1001, -20, 1, 2, 3, 1, 2, 4, 3, 5, 1001, 2001]\n",
      "7 [-1001, -20, 1, 2, 3, 1, 2, 3, 4, 5, 1001, 2001]\n",
      "[-1001, -20, 1, 2, 3, 1, 2, 3, 4, 5, 1001, 2001] 0\n",
      "[-1001, -20, 1, 2, 3, 1, 2, 3, 4, 5, 1001, 2001] 1\n",
      "[-1001, -20, 1, 2, 3, 1, 2, 3, 4, 5, 1001, 2001] 2\n",
      "[-1001, -20, 1, 2, 3, 1, 2, 3, 4, 5, 1001, 2001] 3\n",
      "4 [-1001, -20, 1, 2, 1, 3, 2, 3, 4, 5, 1001, 2001]\n",
      "5 [-1001, -20, 1, 2, 1, 2, 3, 3, 4, 5, 1001, 2001]\n",
      "[-1001, -20, 1, 2, 1, 2, 3, 3, 4, 5, 1001, 2001] 6\n",
      "[-1001, -20, 1, 2, 1, 2, 3, 3, 4, 5, 1001, 2001] 0\n",
      "[-1001, -20, 1, 2, 1, 2, 3, 3, 4, 5, 1001, 2001] 1\n",
      "[-1001, -20, 1, 2, 1, 2, 3, 3, 4, 5, 1001, 2001] 2\n",
      "3 [-1001, -20, 1, 1, 2, 2, 3, 3, 4, 5, 1001, 2001]\n",
      "[-1001, -20, 1, 1, 2, 2, 3, 3, 4, 5, 1001, 2001] 4\n",
      "[-1001, -20, 1, 1, 2, 2, 3, 3, 4, 5, 1001, 2001] 5\n",
      "[-1001, -20, 1, 1, 2, 2, 3, 3, 4, 5, 1001, 2001] 0\n",
      "[-1001, -20, 1, 1, 2, 2, 3, 3, 4, 5, 1001, 2001] 1\n",
      "[-1001, -20, 1, 1, 2, 2, 3, 3, 4, 5, 1001, 2001] 2\n",
      "[-1001, -20, 1, 1, 2, 2, 3, 3, 4, 5, 1001, 2001] 3\n",
      "[-1001, -20, 1, 1, 2, 2, 3, 3, 4, 5, 1001, 2001] 4\n",
      "[-1001, -20, 1, 1, 2, 2, 3, 3, 4, 5, 1001, 2001] 0\n",
      "[-1001, -20, 1, 1, 2, 2, 3, 3, 4, 5, 1001, 2001] 1\n",
      "[-1001, -20, 1, 1, 2, 2, 3, 3, 4, 5, 1001, 2001] 2\n",
      "[-1001, -20, 1, 1, 2, 2, 3, 3, 4, 5, 1001, 2001] 3\n",
      "[-1001, -20, 1, 1, 2, 2, 3, 3, 4, 5, 1001, 2001] 0\n",
      "[-1001, -20, 1, 1, 2, 2, 3, 3, 4, 5, 1001, 2001] 1\n",
      "[-1001, -20, 1, 1, 2, 2, 3, 3, 4, 5, 1001, 2001] 2\n",
      "[-1001, -20, 1, 1, 2, 2, 3, 3, 4, 5, 1001, 2001] 0\n",
      "[-1001, -20, 1, 1, 2, 2, 3, 3, 4, 5, 1001, 2001] 1\n",
      "[-1001, -20, 1, 1, 2, 2, 3, 3, 4, 5, 1001, 2001] 0\n"
     ]
    }
   ],
   "source": [
    "# Bubble sort，先將使用者輸入的資料排序，等等就可以直接找出最大、最小的rm個數\n",
    "j=0\n",
    "while j<=(len(org)-2):\n",
    "    for i in range(len(org)-1-j):\n",
    "        t=org[i]\n",
    "        if t>org[i+1]:    \n",
    "            org[i] = org[i+1]\n",
    "            org[i+1] = t\n",
    "            print(i,org)\n",
    "            i+=1\n",
    "        else:\n",
    "            print(org,i)\n",
    "            i+=1    \n",
    "    j+=1"
   ]
  },
  {
   "cell_type": "code",
   "execution_count": 5,
   "id": "a1a494eb",
   "metadata": {},
   "outputs": [
    {
     "name": "stdout",
     "output_type": "stream",
     "text": [
      "The data with the outliers removed:  [1, 1, 2, 2, 3, 3, 4, 5]\n"
     ]
    }
   ],
   "source": [
    "org_mod = org[rm:len(org)-rm]\n",
    "print(\"The data with the outliers removed: \",org_mod)"
   ]
  },
  {
   "cell_type": "code",
   "execution_count": 4,
   "id": "eedfbe2e",
   "metadata": {},
   "outputs": [
    {
     "name": "stdout",
     "output_type": "stream",
     "text": [
      "The outliers: [-1001, -20, 1001, 2001]\n"
     ]
    }
   ],
   "source": [
    "out = org[0:rm]+org[len(org)-rm:len(org)]\n",
    "print(\"The outliers:\",out)"
   ]
  },
  {
   "cell_type": "code",
   "execution_count": null,
   "id": "b5f05dc1",
   "metadata": {},
   "outputs": [],
   "source": []
  }
 ],
 "metadata": {
  "kernelspec": {
   "display_name": "Python 3",
   "language": "python",
   "name": "python3"
  },
  "language_info": {
   "codemirror_mode": {
    "name": "ipython",
    "version": 3
   },
   "file_extension": ".py",
   "mimetype": "text/x-python",
   "name": "python",
   "nbconvert_exporter": "python",
   "pygments_lexer": "ipython3",
   "version": "3.8.6"
  }
 },
 "nbformat": 4,
 "nbformat_minor": 5
}
