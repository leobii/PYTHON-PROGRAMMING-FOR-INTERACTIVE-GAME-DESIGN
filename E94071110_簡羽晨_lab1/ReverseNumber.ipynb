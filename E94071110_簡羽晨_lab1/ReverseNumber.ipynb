{
 "cells": [
  {
   "cell_type": "code",
   "execution_count": 86,
   "id": "95cd0181",
   "metadata": {},
   "outputs": [],
   "source": [
    "def reverse(number):\n",
    "    x = abs(number)     #對number取絕對值\n",
    "    \n",
    "    '''計算number有幾位數'''\n",
    "    i=0\n",
    "    while (x//(10**i))!=0 :\n",
    "        i+=1\n",
    "    # print(i,\"位整數\")\n",
    "    \n",
    "    '''執行reverse'''\n",
    "    times = 1\n",
    "    if number<0:\n",
    "        print (\"-\", end='')     #如果number是負數，print\"-\"\n",
    "    while times<=i :\n",
    "        rev=x % (10**times)//(10**(times-1))\n",
    "        print(format(rev, '.0f'), end='')\n",
    "        times += 1"
   ]
  },
  {
   "cell_type": "code",
   "execution_count": 89,
   "id": "61289b9b",
   "metadata": {},
   "outputs": [
    {
     "name": "stdout",
     "output_type": "stream",
     "text": [
      "Enter an integer:1234567890\n",
      "10 位整數\n",
      "0987654321"
     ]
    }
   ],
   "source": [
    "num = int(input('Enter an integer:'))\n",
    "reverse(num)"
   ]
  },
  {
   "cell_type": "code",
   "execution_count": null,
   "id": "fab059d4",
   "metadata": {},
   "outputs": [],
   "source": []
  }
 ],
 "metadata": {
  "kernelspec": {
   "display_name": "Python 3",
   "language": "python",
   "name": "python3"
  },
  "language_info": {
   "codemirror_mode": {
    "name": "ipython",
    "version": 3
   },
   "file_extension": ".py",
   "mimetype": "text/x-python",
   "name": "python",
   "nbconvert_exporter": "python",
   "pygments_lexer": "ipython3",
   "version": "3.8.6"
  }
 },
 "nbformat": 4,
 "nbformat_minor": 5
}
